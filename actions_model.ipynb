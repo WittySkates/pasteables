{
 "cells": [
  {
   "cell_type": "code",
   "execution_count": 4,
   "metadata": {},
   "outputs": [],
   "source": [
    "# Pre-Processing imports\n",
    "\n",
    "import pandas as pd\n",
    "import numpy as np\n",
    "import glob\n",
    "import os\n",
    "import re\n",
    "import seaborn as sns\n",
    "import matplotlib.pyplot as plt\n",
    "from ipywidgets import interact\n",
    "%matplotlib inline"
   ]
  },
  {
   "cell_type": "code",
   "execution_count": 5,
   "metadata": {},
   "outputs": [],
   "source": [
    "# ML imports\n",
    "\n",
    "from sklearn.preprocessing import LabelEncoder\n",
    "from sklearn.model_selection import train_test_split\n",
    "from sklearn.tree import DecisionTreeClassifier\n",
    "from sklearn.svm import SVC\n",
    "from sklearn.ensemble import RandomForestClassifier\n",
    "from sklearn.model_selection import GridSearchCV\n",
    "from sklearn.naive_bayes import GaussianNB\n",
    "from sklearn.naive_bayes import BernoulliNB\n",
    "from sklearn.neural_network import MLPClassifier"
   ]
  },
  {
   "cell_type": "code",
   "execution_count": 6,
   "metadata": {},
   "outputs": [],
   "source": [
    "# Options\n",
    "\n",
    "# np.set_printoptions(threshold=np.inf)"
   ]
  },
  {
   "cell_type": "code",
   "execution_count": 17,
   "metadata": {},
   "outputs": [],
   "source": [
    "# Functions\n",
    "\n",
    "# Train new model\n",
    "def train_new_model(path, model):\n",
    "    \n",
    "    # Will grab any subfolders from path and their csv files\n",
    "    all_files = glob.glob(path + \"/*/*.csv\")\n",
    "\n",
    "    # Holder list\n",
    "    li = []\n",
    "\n",
    "    # Regex changes the target class creation\n",
    "    # 'CORRECT|WRONG|[a-zA-Z]+(?=_[0-9]+_data)|(?<=IR_[0-9]_)[a-zA-Z]+'\n",
    "\n",
    "    for filename in all_files:\n",
    "        # Reads individual csv files\n",
    "        df = pd.read_csv(filename, index_col=None, header=0)\n",
    "        # Matches specifics from the filename using regex (subject to change depending on filenaming convention)    \n",
    "        match  = re.findall('[a-zA-Z]+(?=_[0-9]+_data)', filename)\n",
    "        y = (''.join(match))\n",
    "        # Adds target column for classification\n",
    "        df['y'] = y\n",
    "        # Appends the dataframe to the list\n",
    "        li.append(df)\n",
    "\n",
    "    # Concats all data into one dataframe for training/testing\n",
    "    frame = pd.concat(li, axis=0, ignore_index=True)\n",
    "\n",
    "    # Target column is y\n",
    "    y_string = frame['y']\n",
    "\n",
    "    # Changes target from string to numeric\n",
    "    le = LabelEncoder().fit(y_string.ravel())\n",
    "    y = le.transform(y_string.ravel())\n",
    "\n",
    "    # Sets the X data\n",
    "    X = frame.drop(['y','arrival_time'],axis=1).to_numpy()\n",
    "\n",
    "    # Splits data into training and testing\n",
    "    X_train, X_test, y_train, y_test = train_test_split(X, y, test_size=0.20) # random_state=42\n",
    "    \n",
    "    clf = model.fit(X_train, y_train)\n",
    "    print(\"Model: \",model,\"\\nScore: \", clf.score(X_test, y_test))"
   ]
  },
  {
   "cell_type": "markdown",
   "metadata": {},
   "source": [
    "# Abstracted funtion for training"
   ]
  },
  {
   "cell_type": "code",
   "execution_count": 18,
   "metadata": {},
   "outputs": [],
   "source": [
    "# Model Options are: \n",
    "# DecisionTreeClassifier()\n",
    "# RandomForestClassifier()\n",
    "# SVC()\n",
    "\n",
    "# Path example:\n",
    "# r'C:\\Users\\conno\\Desktop\\Pastebles\\data'"
   ]
  },
  {
   "cell_type": "code",
   "execution_count": null,
   "metadata": {
    "scrolled": true
   },
   "outputs": [],
   "source": [
    "# Example of training a new model with its associted testing score\n",
    "train_new_model(r'C:\\Users\\conno\\Desktop\\Pastebles\\data', RandomForestClassifier())"
   ]
  },
  {
   "cell_type": "markdown",
   "metadata": {},
   "source": [
    "# Quick prototyping"
   ]
  },
  {
   "cell_type": "code",
   "execution_count": 11,
   "metadata": {},
   "outputs": [],
   "source": [
    "# Path to data directory\n",
    "\n",
    "# Change to desired path\n",
    "path = r'C:\\Users\\conno\\Desktop\\Pastebles\\data'\n",
    "# Will grab any subfolders from path and their csv files\n",
    "all_files = glob.glob(path + \"/*/*.csv\") "
   ]
  },
  {
   "cell_type": "code",
   "execution_count": 12,
   "metadata": {
    "scrolled": true
   },
   "outputs": [],
   "source": [
    "# Reads in all data and adds target column for classification\n",
    "\n",
    "# Holder list\n",
    "li = []\n",
    "\n",
    "# Regex changes the target class creation\n",
    "# 'CORRECT|WRONG|[a-zA-Z]+(?=_[0-9]+_data)|(?<=IR_[0-9]_)[a-zA-Z]+'\n",
    "\n",
    "for filename in all_files:\n",
    "    # Reads individual csv files\n",
    "    df = pd.read_csv(filename, index_col=None, header=0)\n",
    "    # Matches specifics from the filename using regex (subject to change depending on filenaming convention)    \n",
    "    match  = re.findall('[a-zA-Z]+(?=_[0-9]+_data)', filename)\n",
    "    y = (''.join(match))\n",
    "    # Adds target column for classification\n",
    "    df['y'] = y\n",
    "    # Appends the dataframe to the list\n",
    "    li.append(df)\n",
    "\n",
    "# Concats all data into one dataframe for training/testing\n",
    "frame = pd.concat(li, axis=0, ignore_index=True)"
   ]
  },
  {
   "cell_type": "code",
   "execution_count": 13,
   "metadata": {},
   "outputs": [],
   "source": [
    "# Target column is y\n",
    "y_string = frame['y']\n",
    "\n",
    "# Changes target from string to numeric\n",
    "le = LabelEncoder().fit(y_string.ravel())\n",
    "y = le.transform(y_string.ravel())\n",
    "\n",
    "# Sets the X data\n",
    "X = frame.drop(['y','arrival_time'],axis=1).to_numpy()\n",
    "\n",
    "# Splits data into training and testing\n",
    "X_train, X_test, y_train, y_test = train_test_split(X, y, test_size=0.20) # random_state=42"
   ]
  },
  {
   "cell_type": "code",
   "execution_count": 14,
   "metadata": {},
   "outputs": [],
   "source": [
    "# Searching for best parameters\n",
    "# parameters = {'criterion':('gini', 'entropy'), 'n_estimators':[100, 200, 300, 400, 500]}\n",
    "\n",
    "# clf = GridSearchCV(RandomForestClassifier(), parameters)\n",
    "# clf = clf.fit(X_train, y_train)\n",
    "# clf.score(X_test, y_test)"
   ]
  },
  {
   "cell_type": "code",
   "execution_count": 15,
   "metadata": {},
   "outputs": [
    {
     "data": {
      "text/plain": [
       "0.8635458167330677"
      ]
     },
     "execution_count": 15,
     "metadata": {},
     "output_type": "execute_result"
    }
   ],
   "source": [
    "clf_dc = DecisionTreeClassifier().fit(X_train, y_train)\n",
    "clf_dc.score(X_test, y_test)"
   ]
  },
  {
   "cell_type": "code",
   "execution_count": 366,
   "metadata": {},
   "outputs": [
    {
     "data": {
      "text/plain": [
       "0.927808764940239"
      ]
     },
     "execution_count": 366,
     "metadata": {},
     "output_type": "execute_result"
    }
   ],
   "source": [
    "clf_rfc = RandomForestClassifier(n_estimators=200).fit(X_train, y_train)\n",
    "clf_rfc.score(X_test, y_test)"
   ]
  },
  {
   "cell_type": "code",
   "execution_count": 367,
   "metadata": {},
   "outputs": [
    {
     "name": "stdout",
     "output_type": "stream",
     "text": [
      "Model:  RandomForestClassifier(n_estimators=200) \n",
      "Score:  0.9277290836653387\n"
     ]
    }
   ],
   "source": [
    "# Function abstraction\n",
    "train_new_model(r'C:\\Users\\conno\\Desktop\\Pastebles\\data', RandomForestClassifier(n_estimators=200))"
   ]
  },
  {
   "cell_type": "code",
   "execution_count": 347,
   "metadata": {},
   "outputs": [
    {
     "name": "stdout",
     "output_type": "stream",
     "text": [
      "Posture 0.9975402233961047\n",
      "BicepCurls 0.9876971608832807\n",
      "SideLunges 0.9717471227621484\n",
      "Sitting 0.9967969250480462\n",
      "Squats 0.9761509254864736\n",
      "Standing 0.9948174134906713\n",
      "Total average for entire dataset:  0.9874582951777874\n"
     ]
    }
   ],
   "source": [
    "# Scoring indivdual actions for the whole dataset\n",
    "\n",
    "actions = frame['y'].unique()\n",
    "scores_entire = []\n",
    "\n",
    "for action in actions:\n",
    "    # Get the data and select only the wanted action for scoring\n",
    "    data = frame.loc[frame['y'] == action]\n",
    "    # Get the y data\n",
    "    y_string = data['y']\n",
    "    # Convert the y to numeric classes\n",
    "    y_data = le.transform(y_string.ravel())\n",
    "    # Get the X data\n",
    "    X_data = data.drop(['y','arrival_time'],axis=1).to_numpy()\n",
    "    \n",
    "    score = clf.score(X_data, y_data)\n",
    "    scores_entire.append(score)\n",
    "    print(action, score)\n",
    "    \n",
    "# Not quite and exact average because different actions may have more data points, but it should be really close.\n",
    "print(\"Total average for entire dataset: \", np.mean(scores_entire, axis=0))"
   ]
  },
  {
   "cell_type": "code",
   "execution_count": 348,
   "metadata": {},
   "outputs": [
    {
     "name": "stdout",
     "output_type": "stream",
     "text": [
      "Posture 0.9875459371171907\n",
      "BicepCurls 0.9384979302188055\n",
      "SideLunges 0.8605797673042792\n",
      "Sitting 0.983753046303818\n",
      "Squats 0.881648675171737\n",
      "Standing 0.9740103958416634\n",
      "Total average for testing dataset:  0.937672625326249\n"
     ]
    }
   ],
   "source": [
    "# Scoring indivdual actions for the testing dataset\n",
    "\n",
    "actions = frame['y'].unique()\n",
    "scores_testing = []\n",
    "for action in actions:\n",
    "    # Get y testing data\n",
    "    y_frame = pd.DataFrame(le.inverse_transform(y_test))\n",
    "    # Select only the wanted action for scoring\n",
    "    y_string = y_frame.where(y_frame == action).dropna()\n",
    "    # Get X testing data from the corresponding y indecies\n",
    "    X_data = X_test[y_string.index]\n",
    "    # Convert the y data back to numeric classes\n",
    "    y_data = le.transform(y_string.to_numpy().ravel())\n",
    "    # Reset y index (not needed currently)\n",
    "    # y_data = y_data.reset_index(drop=True)\n",
    "    \n",
    "    score = clf.score(X_data, y_data)\n",
    "    scores_testing.append(score)\n",
    "    print(action, score)\n",
    "\n",
    "# Not quite and exact average because different actions may have more data points, but it should be really close.\n",
    "print(\"Total average for testing dataset: \", np.mean(scores_testing, axis=0))"
   ]
  },
  {
   "cell_type": "code",
   "execution_count": 287,
   "metadata": {},
   "outputs": [
    {
     "name": "stdout",
     "output_type": "stream",
     "text": [
      "Predicted: ['SideLunges'] \n",
      "Actual: ['BicepCurls']\n"
     ]
    }
   ],
   "source": [
    "# Manually testing individual points\n",
    "\n",
    "index = 102\n",
    "x_pred = frame.drop(['arrival_time', \"y\"],axis=1).iloc[index].to_numpy().reshape(1,-1)\n",
    "x_pred = X_test[index].reshape(1, -1)\n",
    "y_pred = y_test[index].ravel()\n",
    "\n",
    "out = clf.predict(x_pred)\n",
    "# list(le.inverse_transform(out))\n",
    "# list(le.inverse_transform(y_test[0].ravel()))\n",
    "\n",
    "print(\"Predicted:\", le.inverse_transform(out), \"\\nActual:\",le.inverse_transform(y_pred))"
   ]
  },
  {
   "cell_type": "code",
   "execution_count": 16,
   "metadata": {},
   "outputs": [
    {
     "data": {
      "text/html": [
       "<div>\n",
       "<style scoped>\n",
       "    .dataframe tbody tr th:only-of-type {\n",
       "        vertical-align: middle;\n",
       "    }\n",
       "\n",
       "    .dataframe tbody tr th {\n",
       "        vertical-align: top;\n",
       "    }\n",
       "\n",
       "    .dataframe thead th {\n",
       "        text-align: right;\n",
       "    }\n",
       "</style>\n",
       "<table border=\"1\" class=\"dataframe\">\n",
       "  <thead>\n",
       "    <tr style=\"text-align: right;\">\n",
       "      <th></th>\n",
       "      <th>arrival_time</th>\n",
       "      <th>acc_x</th>\n",
       "      <th>acc_y</th>\n",
       "      <th>acc_z</th>\n",
       "      <th>rot_x</th>\n",
       "      <th>rot_y</th>\n",
       "      <th>rot_z</th>\n",
       "      <th>ir_dist</th>\n",
       "      <th>y</th>\n",
       "    </tr>\n",
       "  </thead>\n",
       "  <tbody>\n",
       "    <tr>\n",
       "      <th>0</th>\n",
       "      <td>2021-06-22 18:38:26.834683</td>\n",
       "      <td>0.960205</td>\n",
       "      <td>0.399536</td>\n",
       "      <td>0.059570</td>\n",
       "      <td>-9.033203</td>\n",
       "      <td>-3.967285</td>\n",
       "      <td>-7.446289</td>\n",
       "      <td>12</td>\n",
       "      <td>Posture</td>\n",
       "    </tr>\n",
       "    <tr>\n",
       "      <th>1</th>\n",
       "      <td>2021-06-22 18:38:26.896499</td>\n",
       "      <td>1.013672</td>\n",
       "      <td>0.388306</td>\n",
       "      <td>0.128784</td>\n",
       "      <td>23.559570</td>\n",
       "      <td>16.479492</td>\n",
       "      <td>-9.887695</td>\n",
       "      <td>13</td>\n",
       "      <td>Posture</td>\n",
       "    </tr>\n",
       "    <tr>\n",
       "      <th>2</th>\n",
       "      <td>2021-06-22 18:38:26.958310</td>\n",
       "      <td>0.945923</td>\n",
       "      <td>0.352295</td>\n",
       "      <td>0.144043</td>\n",
       "      <td>56.823730</td>\n",
       "      <td>13.916016</td>\n",
       "      <td>-2.319336</td>\n",
       "      <td>12</td>\n",
       "      <td>Posture</td>\n",
       "    </tr>\n",
       "    <tr>\n",
       "      <th>3</th>\n",
       "      <td>2021-06-22 18:38:27.019907</td>\n",
       "      <td>0.907959</td>\n",
       "      <td>0.367676</td>\n",
       "      <td>0.103760</td>\n",
       "      <td>31.616211</td>\n",
       "      <td>-7.751465</td>\n",
       "      <td>-0.183105</td>\n",
       "      <td>12</td>\n",
       "      <td>Posture</td>\n",
       "    </tr>\n",
       "    <tr>\n",
       "      <th>4</th>\n",
       "      <td>2021-06-22 18:38:27.081720</td>\n",
       "      <td>0.886719</td>\n",
       "      <td>0.404663</td>\n",
       "      <td>0.116699</td>\n",
       "      <td>-1.953125</td>\n",
       "      <td>-26.245117</td>\n",
       "      <td>-2.319336</td>\n",
       "      <td>12</td>\n",
       "      <td>Posture</td>\n",
       "    </tr>\n",
       "    <tr>\n",
       "      <th>...</th>\n",
       "      <td>...</td>\n",
       "      <td>...</td>\n",
       "      <td>...</td>\n",
       "      <td>...</td>\n",
       "      <td>...</td>\n",
       "      <td>...</td>\n",
       "      <td>...</td>\n",
       "      <td>...</td>\n",
       "      <td>...</td>\n",
       "    </tr>\n",
       "    <tr>\n",
       "      <th>125492</th>\n",
       "      <td>2021-06-30 16:11:56.917636</td>\n",
       "      <td>0.973633</td>\n",
       "      <td>0.137695</td>\n",
       "      <td>0.215698</td>\n",
       "      <td>-1.098633</td>\n",
       "      <td>-7.141113</td>\n",
       "      <td>-1.098633</td>\n",
       "      <td>114</td>\n",
       "      <td>Squats</td>\n",
       "    </tr>\n",
       "    <tr>\n",
       "      <th>125493</th>\n",
       "      <td>2021-06-30 16:11:56.980679</td>\n",
       "      <td>0.977783</td>\n",
       "      <td>0.142212</td>\n",
       "      <td>0.211060</td>\n",
       "      <td>-0.366211</td>\n",
       "      <td>-7.324219</td>\n",
       "      <td>-1.342773</td>\n",
       "      <td>114</td>\n",
       "      <td>Squats</td>\n",
       "    </tr>\n",
       "    <tr>\n",
       "      <th>125494</th>\n",
       "      <td>2021-06-30 16:11:57.041932</td>\n",
       "      <td>0.984375</td>\n",
       "      <td>0.135132</td>\n",
       "      <td>0.210815</td>\n",
       "      <td>-1.037598</td>\n",
       "      <td>-7.873535</td>\n",
       "      <td>-1.220703</td>\n",
       "      <td>114</td>\n",
       "      <td>Squats</td>\n",
       "    </tr>\n",
       "    <tr>\n",
       "      <th>125495</th>\n",
       "      <td>2021-06-30 16:11:57.103245</td>\n",
       "      <td>0.988770</td>\n",
       "      <td>0.135742</td>\n",
       "      <td>0.209595</td>\n",
       "      <td>-2.746582</td>\n",
       "      <td>-9.277344</td>\n",
       "      <td>-1.525879</td>\n",
       "      <td>124</td>\n",
       "      <td>Squats</td>\n",
       "    </tr>\n",
       "    <tr>\n",
       "      <th>125496</th>\n",
       "      <td>2021-06-30 16:11:57.166535</td>\n",
       "      <td>0.989624</td>\n",
       "      <td>0.130615</td>\n",
       "      <td>0.218628</td>\n",
       "      <td>-4.699707</td>\n",
       "      <td>-10.070801</td>\n",
       "      <td>-1.342773</td>\n",
       "      <td>124</td>\n",
       "      <td>Squats</td>\n",
       "    </tr>\n",
       "  </tbody>\n",
       "</table>\n",
       "<p>125497 rows × 9 columns</p>\n",
       "</div>"
      ],
      "text/plain": [
       "                      arrival_time     acc_x     acc_y     acc_z      rot_x  \\\n",
       "0       2021-06-22 18:38:26.834683  0.960205  0.399536  0.059570  -9.033203   \n",
       "1       2021-06-22 18:38:26.896499  1.013672  0.388306  0.128784  23.559570   \n",
       "2       2021-06-22 18:38:26.958310  0.945923  0.352295  0.144043  56.823730   \n",
       "3       2021-06-22 18:38:27.019907  0.907959  0.367676  0.103760  31.616211   \n",
       "4       2021-06-22 18:38:27.081720  0.886719  0.404663  0.116699  -1.953125   \n",
       "...                            ...       ...       ...       ...        ...   \n",
       "125492  2021-06-30 16:11:56.917636  0.973633  0.137695  0.215698  -1.098633   \n",
       "125493  2021-06-30 16:11:56.980679  0.977783  0.142212  0.211060  -0.366211   \n",
       "125494  2021-06-30 16:11:57.041932  0.984375  0.135132  0.210815  -1.037598   \n",
       "125495  2021-06-30 16:11:57.103245  0.988770  0.135742  0.209595  -2.746582   \n",
       "125496  2021-06-30 16:11:57.166535  0.989624  0.130615  0.218628  -4.699707   \n",
       "\n",
       "            rot_y     rot_z  ir_dist        y  \n",
       "0       -3.967285 -7.446289       12  Posture  \n",
       "1       16.479492 -9.887695       13  Posture  \n",
       "2       13.916016 -2.319336       12  Posture  \n",
       "3       -7.751465 -0.183105       12  Posture  \n",
       "4      -26.245117 -2.319336       12  Posture  \n",
       "...           ...       ...      ...      ...  \n",
       "125492  -7.141113 -1.098633      114   Squats  \n",
       "125493  -7.324219 -1.342773      114   Squats  \n",
       "125494  -7.873535 -1.220703      114   Squats  \n",
       "125495  -9.277344 -1.525879      124   Squats  \n",
       "125496 -10.070801 -1.342773      124   Squats  \n",
       "\n",
       "[125497 rows x 9 columns]"
      ]
     },
     "execution_count": 16,
     "metadata": {},
     "output_type": "execute_result"
    }
   ],
   "source": [
    "frame"
   ]
  },
  {
   "cell_type": "code",
   "execution_count": null,
   "metadata": {},
   "outputs": [],
   "source": []
  }
 ],
 "metadata": {
  "kernelspec": {
   "display_name": "Python 3",
   "language": "python",
   "name": "python3"
  },
  "language_info": {
   "codemirror_mode": {
    "name": "ipython",
    "version": 3
   },
   "file_extension": ".py",
   "mimetype": "text/x-python",
   "name": "python",
   "nbconvert_exporter": "python",
   "pygments_lexer": "ipython3",
   "version": "3.8.5"
  }
 },
 "nbformat": 4,
 "nbformat_minor": 4
}
