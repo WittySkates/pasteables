{
 "cells": [
  {
   "cell_type": "code",
   "execution_count": 4,
   "metadata": {},
   "outputs": [],
   "source": [
    "# Pre-Processing imports\n",
    "\n",
    "import pandas as pd\n",
    "import numpy as np\n",
    "import glob\n",
    "import os\n",
    "import re\n",
    "import seaborn as sns\n",
    "import matplotlib.pyplot as plt\n",
    "from ipywidgets import interact\n",
    "%matplotlib inline"
   ]
  },
  {
   "cell_type": "code",
   "execution_count": 35,
   "metadata": {},
   "outputs": [],
   "source": [
    "# ML imports\n",
    "\n",
    "from sklearn.preprocessing import LabelEncoder\n",
    "from sklearn.model_selection import train_test_split\n",
    "from sklearn.tree import DecisionTreeClassifier\n",
    "from sklearn.svm import SVC\n",
    "from sklearn.ensemble import RandomForestClassifier\n",
    "from sklearn.model_selection import GridSearchCV\n",
    "from sklearn.naive_bayes import GaussianNB\n",
    "from sklearn.naive_bayes import BernoulliNB\n",
    "from sklearn.neural_network import MLPClassifier"
   ]
  },
  {
   "cell_type": "code",
   "execution_count": 3,
   "metadata": {},
   "outputs": [],
   "source": [
    "# Options\n",
    "\n",
    "# np.set_printoptions(threshold=np.inf)"
   ]
  },
  {
   "cell_type": "code",
   "execution_count": 359,
   "metadata": {},
   "outputs": [],
   "source": [
    "# Functions\n",
    "\n",
    "# Train new model\n",
    "def train_new_model(path, model):\n",
    "    \n",
    "    # Will grab any subfolders from path and their csv files\n",
    "    all_files = glob.glob(path + \"/*/*.csv\")\n",
    "\n",
    "    # Holder list\n",
    "    li = []\n",
    "\n",
    "    # Regex changes the target class creation\n",
    "    # 'CORRECT|WRONG|[a-zA-Z]+(?=_[0-9]+_data)|(?<=IR_[0-9]_)[a-zA-Z]+'\n",
    "\n",
    "    for filename in all_files:\n",
    "        # Reads individual csv files\n",
    "        df = pd.read_csv(filename, index_col=None, header=0)\n",
    "        # Matches specifics from the filename using regex (subject to change depending on filenaming convention)    \n",
    "        match  = re.findall('[a-zA-Z]+(?=_[0-9]+_data)', filename)\n",
    "        y = (''.join(match))\n",
    "        # Adds target column for classification\n",
    "        df['y'] = y\n",
    "        # Appends the dataframe to the list\n",
    "        li.append(df)\n",
    "\n",
    "    # Target column is y\n",
    "    y_string = frame['y']\n",
    "\n",
    "    # Changes target from string to numeric\n",
    "    le = LabelEncoder().fit(y_string.ravel())\n",
    "    y = le.transform(y_string.ravel())\n",
    "\n",
    "    # Sets the X data\n",
    "    X = frame.drop(['y','arrival_time'],axis=1).to_numpy()\n",
    "\n",
    "    # Splits data into training and testing\n",
    "    X_train, X_test, y_train, y_test = train_test_split(X, y, test_size=0.20) # random_state=42\n",
    "    \n",
    "    clf = model.fit(X_train, y_train)\n",
    "    print(\"Model: \",model,\"\\nScore: \", clf.score(X_test, y_test))"
   ]
  },
  {
   "cell_type": "markdown",
   "metadata": {},
   "source": [
    "# Abstracted funtion for training"
   ]
  },
  {
   "cell_type": "code",
   "execution_count": 11,
   "metadata": {},
   "outputs": [],
   "source": [
    "# Model Options are: \n",
    "# DecisionTreeClassifier()\n",
    "# RandomForestClassifier()\n",
    "# SVC()\n",
    "\n",
    "# Path example:\n",
    "# r'C:\\Users\\conno\\Desktop\\Pastebles\\data'"
   ]
  },
  {
   "cell_type": "code",
   "execution_count": 12,
   "metadata": {
    "scrolled": true
   },
   "outputs": [
    {
     "name": "stdout",
     "output_type": "stream",
     "text": [
      "Model:  RandomForestClassifier() \n",
      "Score:  0.8596414342629483\n"
     ]
    }
   ],
   "source": [
    "# Example of training a new model with its associted testing score\n",
    "train_new_model(r'C:\\Users\\conno\\Desktop\\Pastebles\\data', RandomForestClassifier())"
   ]
  },
  {
   "cell_type": "markdown",
   "metadata": {},
   "source": [
    "# Quick prototyping"
   ]
  },
  {
   "cell_type": "code",
   "execution_count": 362,
   "metadata": {},
   "outputs": [],
   "source": [
    "# Path to data directory\n",
    "\n",
    "# Change to desired path\n",
    "path = r'C:\\Users\\conno\\Desktop\\Pastebles\\data'\n",
    "# Will grab any subfolders from path and their csv files\n",
    "all_files = glob.glob(path + \"/*/*.csv\") "
   ]
  },
  {
   "cell_type": "code",
   "execution_count": 363,
   "metadata": {
    "scrolled": true
   },
   "outputs": [],
   "source": [
    "# Reads in all data and adds target column for classification\n",
    "\n",
    "# Holder list\n",
    "li = []\n",
    "\n",
    "# Regex changes the target class creation\n",
    "# 'CORRECT|WRONG|[a-zA-Z]+(?=_[0-9]+_data)|(?<=IR_[0-9]_)[a-zA-Z]+'\n",
    "\n",
    "for filename in all_files:\n",
    "    # Reads individual csv files\n",
    "    df = pd.read_csv(filename, index_col=None, header=0)\n",
    "    # Matches specifics from the filename using regex (subject to change depending on filenaming convention)    \n",
    "    match  = re.findall('[a-zA-Z]+(?=_[0-9]+_data)', filename)\n",
    "    y = (''.join(match))\n",
    "    # Adds target column for classification\n",
    "    df['y'] = y\n",
    "    # Appends the dataframe to the list\n",
    "    li.append(df)\n",
    "\n",
    "# Concats all data into one dataframe for training/testing\n",
    "frame = pd.concat(li, axis=0, ignore_index=True)"
   ]
  },
  {
   "cell_type": "code",
   "execution_count": 364,
   "metadata": {},
   "outputs": [],
   "source": [
    "# Target column is y\n",
    "y_string = frame['y']\n",
    "\n",
    "# Changes target from string to numeric\n",
    "le = LabelEncoder().fit(y_string.ravel())\n",
    "y = le.transform(y_string.ravel())\n",
    "\n",
    "# Sets the X data\n",
    "X = frame.drop(['y','arrival_time'],axis=1).to_numpy()\n",
    "\n",
    "# Splits data into training and testing\n",
    "X_train, X_test, y_train, y_test = train_test_split(X, y, test_size=0.20) # random_state=42"
   ]
  },
  {
   "cell_type": "code",
   "execution_count": 365,
   "metadata": {},
   "outputs": [],
   "source": [
    "# Searching for best parameters\n",
    "# parameters = {'criterion':('gini', 'entropy'), 'n_estimators':[100, 200, 300, 400, 500]}\n",
    "\n",
    "# clf = GridSearchCV(RandomForestClassifier(), parameters)\n",
    "# clf = clf.fit(X_train, y_train)\n",
    "# clf.score(X_test, y_test)"
   ]
  },
  {
   "cell_type": "code",
   "execution_count": 357,
   "metadata": {},
   "outputs": [
    {
     "data": {
      "text/plain": [
       "0.8663745019920319"
      ]
     },
     "execution_count": 357,
     "metadata": {},
     "output_type": "execute_result"
    }
   ],
   "source": [
    "clf_dc = DecisionTreeClassifier().fit(X_train, y_train)\n",
    "clf_dc.score(X_test, y_test)"
   ]
  },
  {
   "cell_type": "code",
   "execution_count": 366,
   "metadata": {},
   "outputs": [
    {
     "data": {
      "text/plain": [
       "0.927808764940239"
      ]
     },
     "execution_count": 366,
     "metadata": {},
     "output_type": "execute_result"
    }
   ],
   "source": [
    "clf_rfc = RandomForestClassifier(n_estimators=200).fit(X_train, y_train)\n",
    "clf_rfc.score(X_test, y_test)"
   ]
  },
  {
   "cell_type": "code",
   "execution_count": 367,
   "metadata": {},
   "outputs": [
    {
     "name": "stdout",
     "output_type": "stream",
     "text": [
      "Model:  RandomForestClassifier(n_estimators=200) \n",
      "Score:  0.9277290836653387\n"
     ]
    }
   ],
   "source": [
    "# Function abstraction\n",
    "train_new_model(r'C:\\Users\\conno\\Desktop\\Pastebles\\data', RandomForestClassifier(n_estimators=200))"
   ]
  },
  {
   "cell_type": "code",
   "execution_count": 347,
   "metadata": {},
   "outputs": [
    {
     "name": "stdout",
     "output_type": "stream",
     "text": [
      "Posture 0.9975402233961047\n",
      "BicepCurls 0.9876971608832807\n",
      "SideLunges 0.9717471227621484\n",
      "Sitting 0.9967969250480462\n",
      "Squats 0.9761509254864736\n",
      "Standing 0.9948174134906713\n",
      "Total average for entire dataset:  0.9874582951777874\n"
     ]
    }
   ],
   "source": [
    "# Scoring indivdual actions for the whole dataset\n",
    "\n",
    "actions = frame['y'].unique()\n",
    "scores_entire = []\n",
    "\n",
    "for action in actions:\n",
    "    # Get the data and select only the wanted action for scoring\n",
    "    data = frame.loc[frame['y'] == action]\n",
    "    # Get the y data\n",
    "    y_string = data['y']\n",
    "    # Convert the y to numeric classes\n",
    "    y_data = le.transform(y_string.ravel())\n",
    "    # Get the X data\n",
    "    X_data = data.drop(['y','arrival_time'],axis=1).to_numpy()\n",
    "    \n",
    "    score = clf.score(X_data, y_data)\n",
    "    scores_entire.append(score)\n",
    "    print(action, score)\n",
    "    \n",
    "# Not quite and exact average because different actions may have more data points, but it should be really close.\n",
    "print(\"Total average for entire dataset: \", np.mean(scores_entire, axis=0))"
   ]
  },
  {
   "cell_type": "code",
   "execution_count": 348,
   "metadata": {},
   "outputs": [
    {
     "name": "stdout",
     "output_type": "stream",
     "text": [
      "Posture 0.9875459371171907\n",
      "BicepCurls 0.9384979302188055\n",
      "SideLunges 0.8605797673042792\n",
      "Sitting 0.983753046303818\n",
      "Squats 0.881648675171737\n",
      "Standing 0.9740103958416634\n",
      "Total average for testing dataset:  0.937672625326249\n"
     ]
    }
   ],
   "source": [
    "# Scoring indivdual actions for the testing dataset\n",
    "\n",
    "actions = frame['y'].unique()\n",
    "scores_testing = []\n",
    "for action in actions:\n",
    "    # Get y testing data\n",
    "    y_frame = pd.DataFrame(le.inverse_transform(y_test))\n",
    "    # Select only the wanted action for scoring\n",
    "    y_string = y_frame.where(y_frame == action).dropna()\n",
    "    # Get X testing data from the corresponding y indecies\n",
    "    X_data = X_test[y_string.index]\n",
    "    # Convert the y data back to numeric classes\n",
    "    y_data = le.transform(y_string.to_numpy().ravel())\n",
    "    # Reset y index (not needed currently)\n",
    "    # y_data = y_data.reset_index(drop=True)\n",
    "    \n",
    "    score = clf.score(X_data, y_data)\n",
    "    scores_testing.append(score)\n",
    "    print(action, score)\n",
    "\n",
    "# Not quite and exact average because different actions may have more data points, but it should be really close.\n",
    "print(\"Total average for testing dataset: \", np.mean(scores_testing, axis=0))"
   ]
  },
  {
   "cell_type": "code",
   "execution_count": 287,
   "metadata": {},
   "outputs": [
    {
     "name": "stdout",
     "output_type": "stream",
     "text": [
      "Predicted: ['SideLunges'] \n",
      "Actual: ['BicepCurls']\n"
     ]
    }
   ],
   "source": [
    "# Manually testing individual points\n",
    "\n",
    "index = 102\n",
    "x_pred = frame.drop(['arrival_time', \"y\"],axis=1).iloc[index].to_numpy().reshape(1,-1)\n",
    "x_pred = X_test[index].reshape(1, -1)\n",
    "y_pred = y_test[index].ravel()\n",
    "\n",
    "out = clf.predict(x_pred)\n",
    "# list(le.inverse_transform(out))\n",
    "# list(le.inverse_transform(y_test[0].ravel()))\n",
    "\n",
    "print(\"Predicted:\", le.inverse_transform(out), \"\\nActual:\",le.inverse_transform(y_pred))"
   ]
  },
  {
   "cell_type": "code",
   "execution_count": null,
   "metadata": {},
   "outputs": [],
   "source": []
  }
 ],
 "metadata": {
  "kernelspec": {
   "display_name": "Python 3",
   "language": "python",
   "name": "python3"
  },
  "language_info": {
   "codemirror_mode": {
    "name": "ipython",
    "version": 3
   },
   "file_extension": ".py",
   "mimetype": "text/x-python",
   "name": "python",
   "nbconvert_exporter": "python",
   "pygments_lexer": "ipython3",
   "version": "3.8.5"
  }
 },
 "nbformat": 4,
 "nbformat_minor": 4
}
