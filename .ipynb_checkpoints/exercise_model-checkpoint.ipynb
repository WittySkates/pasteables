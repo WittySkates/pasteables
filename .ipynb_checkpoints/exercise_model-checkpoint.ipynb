{
 "cells": [
  {
   "cell_type": "code",
   "execution_count": 1,
   "metadata": {},
   "outputs": [],
   "source": [
    "# Pre-Processing imports\n",
    "\n",
    "import pandas as pd\n",
    "import numpy as np\n",
    "import glob\n",
    "import os\n",
    "import re\n",
    "import seaborn as sns\n",
    "import matplotlib.pyplot as plt\n",
    "from ipywidgets import interact\n",
    "%matplotlib inline"
   ]
  },
  {
   "cell_type": "code",
   "execution_count": 2,
   "metadata": {},
   "outputs": [],
   "source": [
    "# ML imports\n",
    "from sklearn.preprocessing import LabelEncoder\n",
    "from sklearn.model_selection import train_test_split\n",
    "from sklearn.tree import DecisionTreeClassifier\n",
    "from sklearn.svm import SVC\n",
    "from sklearn.ensemble import RandomForestClassifier"
   ]
  },
  {
   "cell_type": "code",
   "execution_count": 3,
   "metadata": {},
   "outputs": [],
   "source": [
    "# Options\n",
    "\n",
    "# np.set_printoptions(threshold=np.inf)"
   ]
  },
  {
   "cell_type": "code",
   "execution_count": 4,
   "metadata": {},
   "outputs": [],
   "source": [
    "# Functions\n",
    "\n",
    "# Train new model\n",
    "def train_new_model(path, model):\n",
    "    \n",
    "    # Will grab any subfolders from path and their csv files\n",
    "    all_files = glob.glob(path + \"/*/*.csv\")\n",
    "\n",
    "    # Holder list\n",
    "    li = []\n",
    "    for filename in all_files:\n",
    "        # Reads individual csv files\n",
    "        df = pd.read_csv(filename, index_col=None, header=0)\n",
    "        # Matches specifics from the filename using regex (subject to change depending on file naming convention)    \n",
    "        match  = re.findall(r'CORRECT|WRONG|[a-zA-Z]+(?=_[0-9]+_data)|(?<=IR_[0-9]_)[a-zA-Z]+', filename)\n",
    "        y = (''.join(match))\n",
    "        # Adds target column for classification\n",
    "        df['y'] = y\n",
    "        # Appends the dataframe to the list\n",
    "        li.append(df)\n",
    "\n",
    "    # Concats all data into one dataframe for training/testing\n",
    "    frame = pd.concat(li, axis=0, ignore_index=True)\n",
    "    \n",
    "    # Target column is y\n",
    "    y_string = pd.DataFrame(frame['y']).to_numpy()\n",
    "    # Changes target from string to numeric\n",
    "    y = LabelEncoder().fit_transform(y_string.ravel())\n",
    "    X = frame.drop(['y','arrival_time'],axis=1).to_numpy()\n",
    "\n",
    "    # Splits data into training and testing with 80% training and 20% testing\n",
    "    X_train, X_test, y_train, y_test = train_test_split(X, y, test_size=0.20, random_state=42)\n",
    "    \n",
    "    clf = model.fit(X_train, y_train)\n",
    "    print(\"Model: \",model,\"\\nScore: \", clf.score(X_test, y_test))"
   ]
  },
  {
   "cell_type": "code",
   "execution_count": 5,
   "metadata": {},
   "outputs": [],
   "source": [
    "# Path to data directory\n",
    "\n",
    "# Change to desired path\n",
    "# Will grab any subfolders from path and their csv files\n",
    "all_files = glob.glob(path + \"/*/*.csv\") "
   ]
  },
  {
   "cell_type": "code",
   "execution_count": 6,
   "metadata": {
    "scrolled": true
   },
   "outputs": [],
   "source": [
    "# Reads in all data and adds target column for classification\n",
    "\n",
    "# Holder list\n",
    "li = []\n",
    "\n",
    "for filename in all_files:\n",
    "    # Reads individual csv files\n",
    "    df = pd.read_csv(filename, index_col=None, header=0)\n",
    "    # Matches specifics from the filename using regex (subject to change depending on filenaming convention)    \n",
    "    match  = re.findall(r'CORRECT|WRONG|[a-zA-Z]+(?=_[0-9]+_data)|(?<=IR_[0-9]_)[a-zA-Z]+', filename)\n",
    "    y = (''.join(match))\n",
    "    # Adds target column for classification\n",
    "    df['y'] = y\n",
    "    # Appends the dataframe to the list\n",
    "    li.append(df)\n",
    "\n",
    "# Concats all data into one dataframe for training/testing\n",
    "frame = pd.concat(li, axis=0, ignore_index=True)"
   ]
  },
  {
   "cell_type": "code",
   "execution_count": 7,
   "metadata": {},
   "outputs": [],
   "source": [
    "# Target column is y\n",
    "y_string = pd.DataFrame(frame['y']).to_numpy()\n",
    "# Changes target from string to numeric\n",
    "y = LabelEncoder().fit_transform(y_string.ravel())\n",
    "\n",
    "X = frame.drop(['y','arrival_time'],axis=1).to_numpy()\n",
    "\n",
    "# Splits data into training and testing\n",
    "X_train, X_test, y_train, y_test = train_test_split(X, y, test_size=0.20, random_state=42)"
   ]
  },
  {
   "cell_type": "code",
   "execution_count": 8,
   "metadata": {},
   "outputs": [],
   "source": [
    "clf = DecisionTreeClassifier()\n",
    "clf = clf.fit(X_train, y_train)"
   ]
  },
  {
   "cell_type": "code",
   "execution_count": 9,
   "metadata": {},
   "outputs": [
    {
     "data": {
      "text/plain": [
       "0.7456972111553785"
      ]
     },
     "execution_count": 9,
     "metadata": {},
     "output_type": "execute_result"
    }
   ],
   "source": [
    "clf.score(X_test, y_test)"
   ]
  },
  {
   "cell_type": "code",
   "execution_count": 10,
   "metadata": {},
   "outputs": [],
   "source": [
    "# Abstracting above code"
   ]
  },
  {
   "cell_type": "code",
   "execution_count": 11,
   "metadata": {},
   "outputs": [],
   "source": [
    "# Model Options are: \n",
    "# DecisionTreeClassifier()\n",
    "# RandomForestClassifier()\n",
    "# SVC()\n",
    "\n",
    "# Path example:\n",
    "# r'C:\\Users\\conno\\Desktop\\Pastebles\\data'"
   ]
  },
  {
   "cell_type": "code",
   "execution_count": 12,
   "metadata": {},
   "outputs": [
    {
     "name": "stdout",
     "output_type": "stream",
     "text": [
      "Model:  RandomForestClassifier() \n",
      "Score:  0.8596414342629483\n"
     ]
    }
   ],
   "source": [
    "# Example of training a new model with its associted testing score\n",
    "train_new_model(r'C:\\Users\\conno\\Desktop\\Pastebles\\data', RandomForestClassifier())"
   ]
  }
 ],
 "metadata": {
  "kernelspec": {
   "display_name": "Python 3",
   "language": "python",
   "name": "python3"
  },
  "language_info": {
   "codemirror_mode": {
    "name": "ipython",
    "version": 3
   },
   "file_extension": ".py",
   "mimetype": "text/x-python",
   "name": "python",
   "nbconvert_exporter": "python",
   "pygments_lexer": "ipython3",
   "version": "3.8.5"
  }
 },
 "nbformat": 4,
 "nbformat_minor": 4
}
